{
 "cells": [
  {
   "cell_type": "markdown",
   "metadata": {},
   "source": [
    "# Parcial Análisis Numérico 2020\n",
    "\n",
    "## Universidad ORT Uruguay - Facultad de Ingeniería\n",
    "\n",
    "-------\n",
    "\n",
    "\n",
    "**Fecha de entrega:** 20/7/2020 por el sitio de [gestion](http://gestion.ort.edu.uy)\n",
    "\n",
    "**Formato de entrega:** Un zip conteniendo el cuaderno con los ejercicios resueltos y una copia en PDF o HTML para visualización.\n",
    "\n",
    "-------"
   ]
  },
  {
   "cell_type": "markdown",
   "metadata": {},
   "source": [
    "## Ejercicio 1\n",
    "\n",
    "En el contexto de manejo de epidemias, es importante estimar la *aceleración* en el número de casos. Dicha aceleración está relacionada con la derivada segunda de la función $f$ que representa en número de casos diarios. En este ejercicio se propone analizar una técnica para estimar la derivada segunda.\n",
    "\n",
    "Considere una función $f$ con derivadas continuas. Se construye el siguiente cociente incremental:\n",
    "\n",
    "$$ \\Delta^2_x f(h) = \\frac{f(x+h) - 2f(x) + f(x-h)}{h^2}.$$\n",
    "\n",
    "1. Utilizando desarrollo de Taylor, muestre que:\n",
    "\n",
    "$$\\Delta^2_x f(h) \\approx f''(x) + C h^2$$\n",
    "con $C$ a determinar. El término $Ch^2$ es el error de truncamiento.\n",
    "\n",
    "2. De una estimación del error de redondeo cometido por usar el cociente anterior en punto flotante.\n",
    "\n",
    "3. En las epidemias, el crecimiento inicial es exponencial. Aplique el cociente incremental anterior para estimar la derivada de $f(x) = e^x$ en $x=0$.\n",
    "\n",
    "4. Analice el error cometido para diferentes valores de $h$ entre $10^{-20}$ y $10^{-1}$. Explique las diferentes regioones del error (conviene graficar en escala logarítmica).\n",
    "\n",
    "5. Dé una estimación del $h$ óptimo para este cociente incremental."
   ]
  },
  {
   "cell_type": "markdown",
   "metadata": {},
   "source": [
    "## Ejercicio 2\n",
    "\n",
    "En un modelo simple de epidemia, la proporción total de la población que contrae la enfermedad satisface la siguiente ecuación no lineal:\n",
    "\n",
    "$$f(x) = 1-x-e^{-R_0 x} = 0,$$\n",
    "\n",
    "con $x$ entre $0$ y $1$, siendo $R_0$ el parámetro de reproducción de la enfermedad. En el caso de COVID-19, $R_0=1.3$ con medidas de distanciamiento.\n",
    "\n",
    "Esta ecuación tiene una raíz en $x=0$ y otra positiva, que es la que interesa.\n",
    "\n",
    "1. Grafique la función anterior para $x$ entre $0$ y $1$ y de una primera estimación (gráfica) de la raíz.\n",
    "\n",
    "2. Explique cómo utilizaría el método de Newton para hallar la raíz buscada, partiendo de $x=1$. Halle la misma para $R_0=1.3$ con un error de `tol=1e-12`.\n",
    "\n",
    "3. ¿Qué ocurre con el método de Newton si la condición inicial es cercana a $0$?\n",
    "\n",
    "4. Se propone utilizar un método iterativo general basado en la siguiente función de iteración: \n",
    "\n",
    "$$ g(x) = 1-e^{-R_0 x}$$\n",
    "\n",
    "Discuta si este método converge utilizando los criterior de convergencia del método iterativo general, e impleméntolo para $R_0=1.3$. Compare el orden del método con Newton. ¿Cuál es más rapido?"
   ]
  },
  {
   "cell_type": "markdown",
   "metadata": {},
   "source": [
    "## Ejercicio 3\n",
    "\n",
    "En las fases iniciales de una epidemia (sin medidas de contención), el crecimiento de los casos es exponencial. Es decir, el no. de casos en curso sigue una relación de la forma:\n",
    "\n",
    "$$g(x) = I_0 e^{k x}$$\n",
    "\n",
    "Con $x$ el día y $g(x)$ la cantidad de casos activos. $I_0$ y $k$ son parámetros a determinar.\n",
    "\n",
    "Se desea ajustar este modelo a los datos de Uruguay en los primeros días de epidemia (a partir del 18/3). La tabla de datos se da en la siguiente celda."
   ]
  },
  {
   "cell_type": "code",
   "execution_count": 9,
   "metadata": {},
   "outputs": [],
   "source": [
    "x=collect(1:10);\n",
    "y=[79,94,110,135,158,162,189,217,238,274];"
   ]
  },
  {
   "cell_type": "markdown",
   "metadata": {},
   "source": [
    "1. Se desea hacer un ajuste por mínimos cuadrados lineales. Proponga una transformación para que el ajuste se convierta en lineal.\n",
    "\n",
    "2. Aplique la descomposición QR para hallar los parámetros del modelo lineal hallado.\n",
    "\n",
    "3. Deshaciendo el cambio de variable, estime los valores de $I_0$ y $k$ resultantes.\n",
    "\n",
    "4. Realice una proyección de como hubiera seguido la epidemia en los siguientes 10 días de no haberse tomado medidas."
   ]
  },
  {
   "cell_type": "markdown",
   "metadata": {},
   "source": [
    "## Ejercicio 4\n",
    "\n",
    "El modelo de crecimiento de una epidemia con medidas de control está dado por la ecuación diferencial:\n",
    "\n",
    "$$\\dot{x} = k(x-x^2)$$\n",
    "\n",
    "siendo $k$ el parámetro del ejercicio anterior, aunque para los efectos de este ejercicio tomaremos $k=0.15$.\n",
    "\n",
    "1. Implemente el método de Euler para resolver la ecuación diferencial anterior.\n",
    "2. Discuta qué ocurre si la condición inicial es $x_0=0$.\n",
    "3. Discuta qué ocurre si la condición inicial es $x_0=0.01$.\n",
    "4. Resuelva la ecuación para diferentes valores del paso $h$ y comente los resultados."
   ]
  }
 ],
 "metadata": {
  "kernelspec": {
   "display_name": "Julia 1.4.1",
   "language": "julia",
   "name": "julia-1.4"
  },
  "language_info": {
   "file_extension": ".jl",
   "mimetype": "application/julia",
   "name": "julia",
   "version": "1.4.1"
  }
 },
 "nbformat": 4,
 "nbformat_minor": 4
}
